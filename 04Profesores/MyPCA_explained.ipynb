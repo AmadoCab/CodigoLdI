{
 "cells": [
  {
   "cell_type": "markdown",
   "metadata": {
    "tags": []
   },
   "source": [
    "# MyPCA.py\n",
    "En este documento explicaré un poco como implementé mi propia versión de _PCA_. Para esta implementación traté de basarme en la implementación de `sklearn` (aunque no con tantas caracteristicas) y lo hice con el paradigma de OOP."
   ]
  },
  {
   "cell_type": "markdown",
   "metadata": {},
   "source": [
    "## Implementación\n",
    "Solo utilicé `numpy` para mi implementación.\n",
    "```python\n",
    "import numpy as np\n",
    "```"
   ]
  },
  {
   "cell_type": "markdown",
   "metadata": {
    "tags": []
   },
   "source": [
    "### Funciones auxiliares\n",
    "#### _Z score_\n",
    "Para estandarizar los datos decidí utilizar una función externa a la clase `PCA`, ya que (según yo entiendo) se pueden utilizar varios métodos para estandarizar los datos. Como se dice en el artículo de [Towards Datascience](https://towardsdatascience.com/understanding-pca-fae3e243731d):\n",
    "> [...] (PCA is sensitive to the relative scale of your features — since all my features are daily stock returns I did not scale the data but in practice, you should consider using StandardScaler or MinMaxScaler).\n",
    "\n",
    "Sin embargo ya que en el artículo de [Medium](https://medium.com/codex/principal-component-analysis-pca-how-it-works-mathematically-d5de4c7138e6) se explica _Z score_ decidí utilizar esa.\n",
    "```python\n",
    "def z_score(nd_array, axis=None):\n",
    "    return (nd_array-np.mean(nd_array, axis=axis, keepdims=True))/np.std(nd_array, axis=axis, keepdims=True)\n",
    "```"
   ]
  },
  {
   "cell_type": "markdown",
   "metadata": {},
   "source": [
    "### Implementación de la clase\n",
    "#### Atributos\n",
    "```python\n",
    "class PCA:\n",
    "    # Attributes\n",
    "    def __init__(self, n_components=False):\n",
    "        self.n_components = n_components\n",
    "\n",
    "    eigVal = None\n",
    "    eigVec = None\n",
    "    variance_ratio = None\n",
    "```"
   ]
  },
  {
   "cell_type": "markdown",
   "metadata": {
    "tags": []
   },
   "source": [
    "#### Métodos\n",
    "##### \\_\\_valid\n",
    "El método privado `__valid` solo está para que la cantidad de componentes de _PCA_ siempre esté definido, aun si el usuario no lo hace por su cuenta.\n",
    "```python\n",
    "    def __valid(self, data):\n",
    "        if self.n_components:\n",
    "            pass\n",
    "        else:\n",
    "            self.n_components = min(data.shape)\n",
    "```"
   ]
  },
  {
   "cell_type": "markdown",
   "metadata": {},
   "source": [
    "##### fit\n",
    "Este es el equivalente del `PCA.fit()` de `sklearn` y calcula los _Eigen vectors_, los _Eigen values_ y el _Variance ratio_ del conjunto de datos dado.\n",
    "```python\n",
    "    def fit(self, data, rowvar=False):\n",
    "        self.__valid(data)\n",
    "        matrix = np.cov(data, rowvar=rowvar)\n",
    "        eVal, eVec = np.linalg.eigh(matrix)\n",
    "        eVal, eVec = eVal[::-1], eVec[:,::-1]\n",
    "        self.eigVal, self.eigVec = eVal[0:self.n_components], eVec[:,0:self.n_components]\n",
    "        self.variance_ratio = self.eigVal/np.sum(self.eigVal)\n",
    "```"
   ]
  },
  {
   "cell_type": "markdown",
   "metadata": {},
   "source": [
    "##### transform\n",
    "Por último este método tranforma los datos de entrada del método en la proyección resultante de _PCA_.\n",
    "```python\n",
    "    def transform(self, data, axis=1, rowvar=False):\n",
    "        if self.variance_ratio.any():\n",
    "            if axis == 0:\n",
    "                mat = np.array([])\n",
    "                for Evec in np.transpose(self.eigVec):\n",
    "                    row = np.array([])\n",
    "                    for Fvec in np.transpose(data):\n",
    "                        row = np.append(row,np.dot(Evec,Fvec))\n",
    "                    mat = np.append(mat, -row)\n",
    "                return mat.reshape((int(mat.shape[0]/self.n_components),self.n_components))\n",
    "            elif axis == 1:\n",
    "                mat = np.array([])\n",
    "                for Evec in np.transpose(self.eigVec):\n",
    "                    row = np.array([])\n",
    "                    for Fvec in data:\n",
    "                        row = np.append(row,np.dot(Evec,Fvec))\n",
    "                    mat = np.append(mat, -row)\n",
    "                return mat.reshape((int(mat.shape[0]/self.n_components),self.n_components))\n",
    "            else:\n",
    "                raise Exception(\"axis option must be 0 or 1\")\n",
    "        else:\n",
    "            raise Exception(\"The model must be fitted first\")\n",
    "```"
   ]
  },
  {
   "cell_type": "markdown",
   "metadata": {},
   "source": [
    "# Testeo\n",
    "Voy a realizar _PCA_ sobre los datos _Iris_ de `sklearn`."
   ]
  },
  {
   "cell_type": "markdown",
   "metadata": {},
   "source": [
    "## Código compartido"
   ]
  },
  {
   "cell_type": "markdown",
   "metadata": {},
   "source": [
    "Primero vamos a cargar los paquetes estandar (`numpy`, `matplotlib.pyplot` y `sklearn.datasets`)."
   ]
  },
  {
   "cell_type": "code",
   "execution_count": 1,
   "metadata": {},
   "outputs": [],
   "source": [
    "import numpy as np\n",
    "import matplotlib.pyplot as plt\n",
    "from sklearn.datasets import load_iris"
   ]
  },
  {
   "cell_type": "markdown",
   "metadata": {},
   "source": [
    "Ahora vamos a importar los datos."
   ]
  },
  {
   "cell_type": "code",
   "execution_count": 2,
   "metadata": {},
   "outputs": [],
   "source": [
    "iris       = load_iris()\n",
    "x          = iris['data']\n",
    "train_data = x[:100]\n",
    "test_data  = x[100:]"
   ]
  },
  {
   "cell_type": "markdown",
   "metadata": {},
   "source": [
    "### Mi propia implementación"
   ]
  },
  {
   "cell_type": "code",
   "execution_count": 3,
   "metadata": {},
   "outputs": [],
   "source": [
    "from MyPCA import z_score\n",
    "from MyPCA import PCA as PCA_p"
   ]
  },
  {
   "cell_type": "markdown",
   "metadata": {},
   "source": [
    "Instancia de la clase y ajuste del modelo."
   ]
  },
  {
   "cell_type": "code",
   "execution_count": 4,
   "metadata": {},
   "outputs": [],
   "source": [
    "p_pca = PCA_p(n_components = 2)\n",
    "p_pca.fit(z_score(train_data, axis=0))"
   ]
  },
  {
   "cell_type": "markdown",
   "metadata": {},
   "source": [
    "Obtenemos los resultados."
   ]
  },
  {
   "cell_type": "code",
   "execution_count": 5,
   "metadata": {},
   "outputs": [],
   "source": [
    "p_result  = p_pca.transform(z_score(test_data, axis=0))"
   ]
  },
  {
   "cell_type": "markdown",
   "metadata": {},
   "source": [
    "Graficamos los resultados"
   ]
  },
  {
   "cell_type": "code",
   "execution_count": 6,
   "metadata": {},
   "outputs": [
    {
     "data": {
      "image/png": "[encoded data removed]",
      "text/plain": [
       "<Figure size 432x288 with 1 Axes>"
      ]
     },
     "metadata": {
      "needs_background": "light"
     },
     "output_type": "display_data"
    }
   ],
   "source": [
    "p_fig = plt.figure()\n",
    "p_ax = p_fig.add_subplot(111)\n",
    "\n",
    "p_ax.scatter(p_result[:,0], p_result[:,1], c='r', marker='.');"
   ]
  },
  {
   "cell_type": "markdown",
   "metadata": {},
   "source": [
    "### La implementación de `sklearn`"
   ]
  },
  {
   "cell_type": "code",
   "execution_count": 7,
   "metadata": {},
   "outputs": [],
   "source": [
    "from sklearn.decomposition import PCA"
   ]
  },
  {
   "cell_type": "markdown",
   "metadata": {},
   "source": [
    "Instancia de la clase y ajuste del modelo."
   ]
  },
  {
   "cell_type": "code",
   "execution_count": 8,
   "metadata": {},
   "outputs": [],
   "source": [
    "sk_pca = PCA(n_components = 2)\n",
    "sk_pca.fit(z_score(train_data, axis=0));"
   ]
  },
  {
   "cell_type": "markdown",
   "metadata": {},
   "source": [
    "Obtenemos los resultados."
   ]
  },
  {
   "cell_type": "code",
   "execution_count": 9,
   "metadata": {},
   "outputs": [],
   "source": [
    "sk_result = sk_pca.transform(z_score(test_data, axis=0))"
   ]
  },
  {
   "cell_type": "markdown",
   "metadata": {},
   "source": [
    "Graficamos los resultados."
   ]
  },
  {
   "cell_type": "code",
   "execution_count": 10,
   "metadata": {},
   "outputs": [
    {
     "data": {
      "image/png": "[encoded data removed]",
      "text/plain": [
       "<Figure size 432x288 with 1 Axes>"
      ]
     },
     "metadata": {
      "needs_background": "light"
     },
     "output_type": "display_data"
    }
   ],
   "source": [
    "sk_fig = plt.figure()\n",
    "sk_ax = sk_fig.add_subplot(111)\n",
    "\n",
    "sk_ax.scatter(sk_result[:,0], sk_result[:,1], c='r', marker='.');"
   ]
  },
  {
   "cell_type": "markdown",
   "metadata": {},
   "source": [
    "### Resultados"
   ]
  },
  {
   "cell_type": "code",
   "execution_count": null,
   "metadata": {},
   "outputs": [],
   "source": []
  }
 ],
 "metadata": {
  "kernelspec": {
   "display_name": "Python 3",
   "language": "python",
   "name": "python3"
  },
  "language_info": {
   "codemirror_mode": {
    "name": "ipython",
    "version": 3
   },
   "file_extension": ".py",
   "mimetype": "text/x-python",
   "name": "python",
   "nbconvert_exporter": "python",
   "pygments_lexer": "ipython3",
   "version": "3.8.10"
  }
 },
 "nbformat": 4,
 "nbformat_minor": 4
}
